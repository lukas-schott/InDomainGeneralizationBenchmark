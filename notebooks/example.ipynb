{
 "cells": [
  {
   "cell_type": "code",
   "execution_count": null,
   "metadata": {},
   "outputs": [],
   "source": [
    "import numpy as np\n",
    "\n",
    "from lablet_generalization_benchmark.load_dataset import load_dataset\n",
    "from lablet_generalization_benchmark.evaluate_model import evaluate_model"
   ]
  },
  {
   "cell_type": "markdown",
   "metadata": {
    "pycharm": {
     "name": "#%% md\n"
    }
   },
   "source": [
    "As an example we will evaluate a classifier that randomly guesses the factors.\n",
    "We load the benchmark dataset dsprites under the composition variant."
   ]
  },
  {
   "cell_type": "code",
   "execution_count": null,
   "metadata": {
    "collapsed": false,
    "jupyter": {
     "outputs_hidden": false
    },
    "pycharm": {
     "name": "#%%\n"
    }
   },
   "outputs": [],
   "source": [
    "dataset_loader = load_dataset(dataset_name='dsprites',\n",
    "                              variant='composition',\n",
    "                              mode='test',\n",
    "                              dir='..')"
   ]
  },
  {
   "cell_type": "markdown",
   "metadata": {
    "pycharm": {
     "name": "#%% md\n"
    }
   },
   "source": [
    "Next, we define a dummy model_fn that reflects a random predictor for each factor"
   ]
  },
  {
   "cell_type": "code",
   "execution_count": null,
   "metadata": {
    "collapsed": false,
    "jupyter": {
     "outputs_hidden": false
    },
    "pycharm": {
     "name": "#%%\n"
    }
   },
   "outputs": [],
   "source": [
    "def model_fn(images):\n",
    "    prediction_batch = None\n",
    "    for batch_index in range(images.shape[0]):\n",
    "        index = np.random.choice(np.prod(dataset_loader.dataset._factor_sizes))\n",
    "        prediction = dataset_loader.dataset._index_manager.index_to_features(index)\n",
    "        if prediction_batch is None:\n",
    "            prediction_batch = prediction\n",
    "        else:\n",
    "            prediction_batch = np.vstack((prediction_batch, prediction))\n",
    "    return prediction_batch"
   ]
  },
  {
   "cell_type": "markdown",
   "metadata": {},
   "source": [
    "Finally, we evaluate the model by calling the evaluation module"
   ]
  },
  {
   "cell_type": "code",
   "execution_count": null,
   "metadata": {
    "collapsed": false,
    "jupyter": {
     "outputs_hidden": false
    },
    "pycharm": {
     "name": "#%%\n"
    }
   },
   "outputs": [],
   "source": [
    "score_dict = evaluate_model(model_fn, dataset_loader)\n",
    "print(score_dict)\n"
   ]
  }
 ],
 "metadata": {
  "kernelspec": {
   "display_name": "Python 3",
   "language": "python",
   "name": "python3"
  },
  "language_info": {
   "codemirror_mode": {
    "name": "ipython",
    "version": 3
   },
   "file_extension": ".py",
   "mimetype": "text/x-python",
   "name": "python",
   "nbconvert_exporter": "python",
   "pygments_lexer": "ipython3",
   "version": "3.8.5"
  }
 },
 "nbformat": 4,
 "nbformat_minor": 4
}