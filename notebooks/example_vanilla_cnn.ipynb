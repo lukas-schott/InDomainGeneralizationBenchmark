{
 "cells": [
  {
   "cell_type": "code",
   "execution_count": null,
   "metadata": {},
   "outputs": [],
   "source": [
    "import numpy as np\n",
    "\n",
    "from lablet_generalization_benchmark.load_dataset import load_dataset\n",
    "from lablet_generalization_benchmark.evaluate_model import evaluate_model\n",
    "from lablet_generalization_benchmark.model import VanillaCNN\n",
    "import torch"
   ]
  },
  {
   "cell_type": "markdown",
   "metadata": {},
   "source": [
    "As an example we will evaluate a classifier that randomly guesses the factors.\n",
    "We load the benchmark dataset dsprites under the composition variant."
   ]
  },
  {
   "cell_type": "code",
   "execution_count": null,
   "metadata": {
    "collapsed": false,
    "jupyter": {
     "outputs_hidden": false
    },
    "pycharm": {
     "name": "#%%\n"
    }
   },
   "outputs": [],
   "source": [
    "dataset_loader = load_dataset(dataset_name='mpi3d',\n",
    "                              variant='extrapolation',\n",
    "                              mode='test',\n",
    "                              dir='..')"
   ]
  },
  {
   "cell_type": "markdown",
   "metadata": {},
   "source": [
    "Next, we define a model_fn evaluating a pre-trained Vanilla CNN"
   ]
  },
  {
   "cell_type": "code",
   "execution_count": null,
   "metadata": {
    "collapsed": false,
    "jupyter": {
     "outputs_hidden": false
    },
    "pycharm": {
     "name": "#%%\n"
    }
   },
   "outputs": [],
   "source": [
    "model = VanillaCNN(number_classes=len(dataset_loader.dataset._factor_sizes), number_channels=3)\n",
    "device = 'cpu'\n",
    "model.to(device)\n",
    "checkpoint = torch.load('../assets/mpi3d_extrapolation_vanilla_seed00_--2021-02-21-12-05-32/last_epoch.pt', map_location=torch.device('cpu'))\n",
    "model.load_state_dict(checkpoint['model'])\n",
    "epoch = checkpoint['epoch']\n",
    "\n",
    "model.eval()\n",
    "\n",
    "def model_fn(images):\n",
    "        representation = model(images.float().to(device))\n",
    "        return np.array(representation.detach().cpu())"
   ]
  },
  {
   "cell_type": "markdown",
   "metadata": {},
   "source": [
    "Finally, we evaluate the model by calling the evaluation module"
   ]
  },
  {
   "cell_type": "code",
   "execution_count": null,
   "metadata": {
    "collapsed": false,
    "jupyter": {
     "outputs_hidden": false
    },
    "pycharm": {
     "name": "#%%\n"
    }
   },
   "outputs": [],
   "source": [
    "score_dict = evaluate_model(model_fn, dataset_loader)\n",
    "print(score_dict)\n"
   ]
  }
 ],
 "metadata": {
  "kernelspec": {
   "display_name": "Python 3",
   "language": "python",
   "name": "python3"
  },
  "language_info": {
   "codemirror_mode": {
    "name": "ipython",
    "version": 3
   },
   "file_extension": ".py",
   "mimetype": "text/x-python",
   "name": "python",
   "nbconvert_exporter": "python",
   "pygments_lexer": "ipython3",
   "version": "3.8.5"
  }
 },
 "nbformat": 4,
 "nbformat_minor": 4
}
